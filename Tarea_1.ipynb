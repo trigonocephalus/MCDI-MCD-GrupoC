{
 "cells": [
  {
   "cell_type": "markdown",
   "metadata": {},
   "source": [
    "MATEMÁTICAS PARA LA CIENCIA DE DATOS\n",
    "TAREA 1\n",
    "\n",
    "PROF.JULIHO CASTILLO COLMENARES\n",
    "\n",
    "Definamos $f(x) = \\frac{1}{1+x}$\n",
    "\n",
    "1. Calcula la integral exacta $\\int_{1}^{0}f(x)dx$."
   ]
  },
  {
   "cell_type": "markdown",
   "metadata": {},
   "source": []
  },
  {
   "cell_type": "markdown",
   "metadata": {},
   "source": []
  }
 ],
 "metadata": {
  "language_info": {
   "name": "python"
  },
  "orig_nbformat": 4
 },
 "nbformat": 4,
 "nbformat_minor": 2
}
